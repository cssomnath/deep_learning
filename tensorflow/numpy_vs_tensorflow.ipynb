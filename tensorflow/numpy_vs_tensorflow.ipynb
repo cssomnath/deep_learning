{
 "cells": [
  {
   "cell_type": "markdown",
   "metadata": {},
   "source": [
    "Numpy vs Tensorflow comparison on computing MSE\n",
    "----\n",
    "Compare time taken by Numpy and Tensorflow to compute Mean Squared Error between two random vectors"
   ]
  },
  {
   "cell_type": "code",
   "execution_count": 1,
   "metadata": {
    "collapsed": true
   },
   "outputs": [],
   "source": [
    "import numpy as np\n",
    "import tensorflow as tf\n",
    "import time"
   ]
  },
  {
   "cell_type": "code",
   "execution_count": 2,
   "metadata": {
    "collapsed": true
   },
   "outputs": [],
   "source": [
    "def np_mse(np_vector1, np_vector2):\n",
    "    diff = np_vector1 - np_vector2\n",
    "    mse = (diff * diff).mean()\n",
    "    return mse\n",
    "\n",
    "class TFMSE(object):\n",
    "    def __init__(self):\n",
    "        self.x1 = tf.placeholder(tf.float32, [None])\n",
    "        self.x2 = tf.placeholder(tf.float32, [None])\n",
    "        \n",
    "        diff = tf.sub(self.x1, self.x2)\n",
    "        self.mse = tf.reduce_mean(tf.mul(diff, diff))\n",
    "        \n",
    "def tf_mse(sess, tfmse, x1, x2):\n",
    "    start = time.time()\n",
    "    feed_dict = { \n",
    "        tfmse.x1 : x1,\n",
    "        tfmse.x2 : x2\n",
    "    }\n",
    "    mse = sess.run(tfmse.mse, feed_dict)\n",
    "    return mse"
   ]
  },
  {
   "cell_type": "code",
   "execution_count": 3,
   "metadata": {
    "collapsed": false
   },
   "outputs": [
    {
     "name": "stdout",
     "output_type": "stream",
     "text": [
      "array_len 1e+01 np_mse=0.13920 tf_mse=0.13920 mse_diff=0.00000 time_diff=-0.004s\n",
      "array_len 1e+02 np_mse=0.19911 tf_mse=0.19911 mse_diff=0.00000 time_diff=-0.000s\n",
      "array_len 1e+03 np_mse=0.16356 tf_mse=0.16356 mse_diff=0.00000 time_diff=-0.000s\n",
      "array_len 1e+04 np_mse=0.16696 tf_mse=0.16696 mse_diff=0.00000 time_diff=-0.000s\n",
      "array_len 1e+05 np_mse=0.16737 tf_mse=0.16737 mse_diff=0.00000 time_diff=-0.001s\n",
      "array_len 1e+06 np_mse=0.16670 tf_mse=0.16669 mse_diff=0.00001 time_diff=-0.006s\n",
      "array_len 1e+07 np_mse=0.16655 tf_mse=0.16623 mse_diff=0.00032 time_diff=-0.047s\n",
      "array_len 1e+08 np_mse=0.16665 tf_mse=0.15899 mse_diff=0.00766 time_diff=-0.266s\n",
      "array_len 1e+09 np_mse=0.16667 tf_mse=0.06711 mse_diff=0.09956 time_diff=-211.625s\n"
     ]
    }
   ],
   "source": [
    "exp_size = 9\n",
    "\n",
    "np_time = []\n",
    "tf_time = []\n",
    "\n",
    "tfmse = TFMSE()\n",
    "sess = tf.Session()\n",
    "\n",
    "dims = np.logspace(1, exp_size, num=exp_size)\n",
    "\n",
    "for i in xrange(len(dims)):\n",
    "    n = int(dims[i])\n",
    "    x1 = np.random.rand(n)\n",
    "    x2 = np.random.rand(n)\n",
    "\n",
    "    start = time.time()\n",
    "    m1 = np_mse(x1, x2)\n",
    "    end = time.time()\n",
    "    t1 = end - start\n",
    "    \n",
    "    start = time.time()\n",
    "    m2 = tf_mse(sess, tfmse, x1, x2)\n",
    "    end = time.time()\n",
    "    t2 = end - start\n",
    "    \n",
    "    print \"array_len %0.1g np_mse=%0.5f tf_mse=%0.5f mse_diff=%0.5f time_diff=%0.3fs\" % (\n",
    "        n, m1, m2, abs(m1 - m2), t1 - t2)\n",
    "    np_time.append(t1)\n",
    "    tf_time.append(t2)"
   ]
  },
  {
   "cell_type": "code",
   "execution_count": 4,
   "metadata": {
    "collapsed": true
   },
   "outputs": [],
   "source": [
    "import matplotlib.pyplot as plt\n",
    "%matplotlib inline"
   ]
  },
  {
   "cell_type": "code",
   "execution_count": 5,
   "metadata": {
    "collapsed": false
   },
   "outputs": [
    {
     "data": {
      "text/plain": [
       "<matplotlib.text.Text at 0x11265f310>"
      ]
     },
     "execution_count": 5,
     "metadata": {},
     "output_type": "execute_result"
    },
    {
     "data": {
      "image/png": "[encoded data removed]",
      "text/plain": [
       "<matplotlib.figure.Figure at 0x111be5550>"
      ]
     },
     "metadata": {},
     "output_type": "display_data"
    }
   ],
   "source": [
    "plt.loglog(dims, np_time, 'r-', label='numpy')\n",
    "plt.loglog(dims, tf_time, 'b-', label='tensorflow')\n",
    "legend = plt.legend(loc='upper left', shadow=True)\n",
    "plt.grid(True)\n",
    "plt.xlabel(\"Array Size\")\n",
    "plt.ylabel(\"Time Taken (Sec)\")"
   ]
  }
 ],
 "metadata": {
  "kernelspec": {
   "display_name": "Python 2",
   "language": "python",
   "name": "python2"
  },
  "language_info": {
   "codemirror_mode": {
    "name": "ipython",
    "version": 2
   },
   "file_extension": ".py",
   "mimetype": "text/x-python",
   "name": "python",
   "nbconvert_exporter": "python",
   "pygments_lexer": "ipython2",
   "version": "2.7.12"
  }
 },
 "nbformat": 4,
 "nbformat_minor": 0
}

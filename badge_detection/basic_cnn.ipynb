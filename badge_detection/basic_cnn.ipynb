{
 "cells": [
  {
   "cell_type": "code",
   "execution_count": 17,
   "metadata": {
    "collapsed": false
   },
   "outputs": [],
   "source": [
    "import numpy as np\n",
    "import tensorflow as tf\n",
    "import cPickle as pickle\n",
    "import matplotlib.pyplot as plt\n",
    "from sklearn import metrics"
   ]
  },
  {
   "cell_type": "code",
   "execution_count": 18,
   "metadata": {
    "collapsed": true
   },
   "outputs": [],
   "source": [
    "def accuracy(predictions, labels):\n",
    "  return (100.0 * np.sum(np.argmax(predictions, 1) == np.argmax(labels, 1))\n",
    "          / predictions.shape[0])"
   ]
  },
  {
   "cell_type": "code",
   "execution_count": 19,
   "metadata": {
    "collapsed": true
   },
   "outputs": [],
   "source": [
    "def confusion_matrix(predictions, labels):\n",
    "    pred = np.argmax(predictions, 1)\n",
    "    actual = np.argmax(labels, 1)\n",
    "    \n",
    "    print \"Actuals \", np.bincount(actual)\n",
    "    print \"Predictions \", np.bincount(pred)\n",
    "    \n",
    "    print \"Accuracy \", 100.0 * np.sum(pred == actual) / pred.shape[0]\n",
    "    print \"Two class confusion matrix\"\n",
    "    p = (pred != 0)\n",
    "    a = (actual != 0)\n",
    "    print metrics.confusion_matrix(p, a)"
   ]
  },
  {
   "cell_type": "code",
   "execution_count": 20,
   "metadata": {
    "collapsed": false
   },
   "outputs": [
    {
     "name": "stdout",
     "output_type": "stream",
     "text": [
      "('Training set', (2000, 256, 256, 3), (2000,))\n",
      "('Validation set', (250, 256, 256, 3), (250,))\n",
      "('Test set', (250, 256, 256, 3), (250,))\n",
      "('Custom Test set', (57, 256, 256, 3), (57,))\n"
     ]
    }
   ],
   "source": [
    "pickle_file = 'badged_images.pickle'\n",
    "\n",
    "with open(pickle_file, 'rb') as f:\n",
    "  save = pickle.load(f)\n",
    "  train_dataset = save['train_dataset']\n",
    "  train_labels = save['train_labels']\n",
    "  valid_dataset = save['valid_dataset']\n",
    "  valid_labels = save['valid_labels']\n",
    "  test_dataset = save['test_dataset']\n",
    "  test_labels = save['test_labels']\n",
    "\n",
    "  custom_test_dataset = save['custom_test_dataset']\n",
    "  custom_test_labels = save['custom_test_labels']\n",
    "  del save  # hint to help gc free up memory\n",
    "\n",
    "print('Training set', train_dataset.shape, train_labels.shape)\n",
    "print('Validation set', valid_dataset.shape, valid_labels.shape)\n",
    "print('Test set', test_dataset.shape, test_labels.shape)\n",
    "print('Custom Test set', custom_test_dataset.shape, custom_test_labels.shape)"
   ]
  },
  {
   "cell_type": "code",
   "execution_count": 21,
   "metadata": {
    "collapsed": false
   },
   "outputs": [],
   "source": [
    "num_labels = np.unique(train_labels).shape[0]\n",
    "image_height = train_dataset.shape[1]\n",
    "image_width = train_dataset.shape[2]\n",
    "num_channels = 1\n",
    "\n",
    "if len(train_dataset.shape) > 3:\n",
    "    num_channels = train_dataset.shape[3]\n",
    "\n",
    "def reformat(dataset):\n",
    "  return dataset.reshape(\n",
    "    (-1, image_height, image_width, num_channels)).astype(np.float32)\n",
    "\n",
    "def one_hot_encoding(labels):\n",
    "  return (np.arange(num_labels) == labels[:,None]).astype(np.float32)"
   ]
  },
  {
   "cell_type": "code",
   "execution_count": 22,
   "metadata": {
    "collapsed": false
   },
   "outputs": [
    {
     "name": "stdout",
     "output_type": "stream",
     "text": [
      "2 256 256\n",
      "('Training set', (2000, 256, 256, 3), (2000, 2))\n",
      "('Validation set', (250, 256, 256, 3), (250, 2))\n",
      "('Test set', (250, 256, 256, 3), (250, 2))\n",
      "('Custom Test set', (57, 256, 256, 3), (57, 2))\n"
     ]
    }
   ],
   "source": [
    "print num_labels, image_height, image_width\n",
    "\n",
    "train_dataset = reformat(train_dataset)\n",
    "valid_dataset = reformat(valid_dataset)\n",
    "test_dataset = reformat(test_dataset)\n",
    "custom_test_dataset = reformat(custom_test_dataset)\n",
    "\n",
    "train_labels = one_hot_encoding(train_labels)\n",
    "valid_labels = one_hot_encoding(valid_labels)\n",
    "test_labels = one_hot_encoding(test_labels)\n",
    "custom_test_labels = one_hot_encoding(custom_test_labels)\n",
    "\n",
    "print('Training set', train_dataset.shape, train_labels.shape)\n",
    "print('Validation set', valid_dataset.shape, valid_labels.shape)\n",
    "print('Test set', test_dataset.shape, test_labels.shape)\n",
    "print('Custom Test set', custom_test_dataset.shape, custom_test_labels.shape)"
   ]
  },
  {
   "cell_type": "code",
   "execution_count": 23,
   "metadata": {
    "collapsed": false
   },
   "outputs": [
    {
     "name": "stdout",
     "output_type": "stream",
     "text": [
      "Validation baseline accuracy\n",
      "Actuals  [150 100]\n",
      "Predictions  [250]\n",
      "Accuracy  60.0\n",
      "Two class confusion matrix\n",
      "[[150 100]\n",
      " [  0   0]]\n",
      "Test baseline accuracy\n",
      "Actuals  [156  94]\n",
      "Predictions  [250]\n",
      "Accuracy  62.4\n",
      "Two class confusion matrix\n",
      "[[156  94]\n",
      " [  0   0]]\n"
     ]
    }
   ],
   "source": [
    "print \"Validation baseline accuracy\"\n",
    "confusion_matrix(one_hot_encoding(np.zeros(valid_labels.shape[0])), valid_labels)\n",
    "\n",
    "print \"Test baseline accuracy\"\n",
    "confusion_matrix(one_hot_encoding(np.zeros(test_labels.shape[0])), test_labels)"
   ]
  },
  {
   "cell_type": "code",
   "execution_count": 24,
   "metadata": {
    "collapsed": true
   },
   "outputs": [],
   "source": [
    "def conv2d(x, W):\n",
    "  return tf.nn.conv2d(x, W, strides=[1, 1, 1, 1], padding='SAME')\n",
    "\n",
    "def max_pool_2x2(x):\n",
    "  return tf.nn.max_pool(x, ksize=[1, 2, 2, 1],\n",
    "                        strides=[1, 2, 2, 1], padding='SAME')"
   ]
  },
  {
   "cell_type": "code",
   "execution_count": 40,
   "metadata": {
    "collapsed": false
   },
   "outputs": [],
   "source": [
    "batch_size = 16\n",
    "patch_size = 5\n",
    "depth = 16\n",
    "num_hidden = 64\n",
    "\n",
    "\n",
    "graph = tf.Graph()\n",
    "\n",
    "with graph.as_default():\n",
    "\n",
    "  # Input data.\n",
    "  tf_train_dataset = tf.placeholder(\n",
    "    tf.float32, shape=(batch_size, image_height, image_width, num_channels))\n",
    "  tf_train_labels = tf.placeholder(tf.float32, shape=(batch_size, num_labels))\n",
    "  tf_valid_dataset = tf.constant(valid_dataset)\n",
    "  tf_test_dataset = tf.constant(test_dataset)\n",
    "  tf_custom_test_dataset = tf.constant(custom_test_dataset)\n",
    "  \n",
    "  # Variables.\n",
    "  layer1_weights = tf.Variable(tf.truncated_normal(\n",
    "      [patch_size, patch_size, num_channels, depth], stddev=0.1))\n",
    "  layer1_biases = tf.Variable(tf.zeros([depth]))\n",
    "\n",
    "  layer2_weights = tf.Variable(tf.truncated_normal(\n",
    "      [patch_size, patch_size, depth, depth], stddev=0.1))\n",
    "  layer2_biases = tf.Variable(tf.constant(1.0, shape=[depth]))\n",
    "\n",
    "  layer3_weights = tf.Variable(tf.truncated_normal(\n",
    "      [image_height // 4 * image_width // 4 * depth, num_hidden], stddev=0.1))\n",
    "  layer3_biases = tf.Variable(tf.constant(1.0, shape=[num_hidden]))\n",
    "\n",
    "  layer4_weights = tf.Variable(tf.truncated_normal(\n",
    "      [num_hidden, num_labels], stddev=0.1))\n",
    "  layer4_biases = tf.Variable(tf.constant(1.0, shape=[num_labels]))\n",
    "  \n",
    "  # Model.\n",
    "  def model(data):\n",
    "    h_conv1 = tf.nn.relu(conv2d(data, layer1_weights) + layer1_biases)\n",
    "    h_pool1 = max_pool_2x2(h_conv1) \n",
    "    \n",
    "    h_conv2 = tf.nn.relu(conv2d(h_pool1, layer2_weights) + layer2_biases)\n",
    "    h_pool2 = max_pool_2x2(h_conv2)\n",
    "\n",
    "    shape = h_pool2.get_shape().as_list()\n",
    "    reshape = tf.reshape(h_pool2, [shape[0], shape[1] * shape[2] * shape[3]])\n",
    "    hidden = tf.nn.relu(tf.matmul(reshape, layer3_weights) + layer3_biases)\n",
    "    return tf.matmul(hidden, layer4_weights) + layer4_biases\n",
    "  \n",
    "  # Training computation.\n",
    "  logits = model(tf_train_dataset)\n",
    "  loss = tf.reduce_mean(\n",
    "    tf.nn.softmax_cross_entropy_with_logits(logits, tf_train_labels))\n",
    "    \n",
    "  # Optimizer.\n",
    "  # optimizer = tf.train.GradientDescentOptimizer(0.00005).minimize(loss)\n",
    "\n",
    "  global_step = tf.Variable(0)\n",
    "  learning_rate = tf.train.exponential_decay(\n",
    "         0.0001, global_step, 500, 0.96, staircase=True)\n",
    "  optimizer = tf.train.GradientDescentOptimizer(learning_rate).minimize(\n",
    "        loss, global_step=global_step)\n",
    "\n",
    "  # Predictions for the training, validation, and test data.\n",
    "  train_prediction = tf.nn.softmax(logits)\n",
    "  valid_prediction = tf.nn.softmax(model(tf_valid_dataset))\n",
    "  test_prediction = tf.nn.softmax(model(tf_test_dataset))\n",
    "  custom_test_prediction = tf.nn.softmax(model(tf_custom_test_dataset))"
   ]
  },
  {
   "cell_type": "code",
   "execution_count": 41,
   "metadata": {
    "collapsed": false,
    "scrolled": true
   },
   "outputs": [
    {
     "name": "stdout",
     "output_type": "stream",
     "text": [
      "Initialized\n",
      "Learning Rate 0.000100\n",
      "Minibatch loss at step 0: 1086.012939\n",
      "Minibatch accuracy: 40.6%\n",
      "Validation accuracy: 40.0%\n",
      "Learning Rate 0.000100\n",
      "Minibatch loss at step 50: 179.691589\n",
      "Minibatch accuracy: 71.9%\n",
      "Validation accuracy: 60.0%\n",
      "Learning Rate 0.000100\n",
      "Minibatch loss at step 100: 4.826299\n",
      "Minibatch accuracy: 59.4%\n",
      "Validation accuracy: 40.0%\n",
      "Learning Rate 0.000100\n",
      "Minibatch loss at step 150: 3.218193\n",
      "Minibatch accuracy: 34.4%\n",
      "Validation accuracy: 60.0%\n",
      "Learning Rate 0.000100\n",
      "Minibatch loss at step 200: 3.008315\n",
      "Minibatch accuracy: 34.4%\n",
      "Validation accuracy: 40.0%\n",
      "Learning Rate 0.000100\n",
      "Minibatch loss at step 250: 1.381816\n",
      "Minibatch accuracy: 34.4%\n",
      "Validation accuracy: 60.0%\n",
      "Learning Rate 0.000100\n",
      "Minibatch loss at step 300: 1.723610\n",
      "Minibatch accuracy: 56.2%\n",
      "Validation accuracy: 40.0%\n",
      "Learning Rate 0.000100\n",
      "Minibatch loss at step 350: 7.147064\n",
      "Minibatch accuracy: 59.4%\n",
      "Validation accuracy: 60.0%\n",
      "Learning Rate 0.000100\n",
      "Minibatch loss at step 400: 6.160699\n",
      "Minibatch accuracy: 53.1%\n",
      "Validation accuracy: 40.0%\n",
      "Learning Rate 0.000100\n",
      "Minibatch loss at step 450: 1.739873\n",
      "Minibatch accuracy: 37.5%\n",
      "Validation accuracy: 60.0%\n",
      "Learning Rate 0.000096\n",
      "Minibatch loss at step 500: 3.848410\n",
      "Minibatch accuracy: 68.8%\n",
      "Validation accuracy: 60.0%\n",
      "Learning Rate 0.000096\n",
      "Minibatch loss at step 550: 5.186378\n",
      "Minibatch accuracy: 53.1%\n",
      "Validation accuracy: 40.0%\n",
      "Learning Rate 0.000096\n",
      "Minibatch loss at step 600: 4.717800\n",
      "Minibatch accuracy: 40.6%\n",
      "Validation accuracy: 60.0%\n",
      "Learning Rate 0.000096\n",
      "Minibatch loss at step 650: 5.793640\n",
      "Minibatch accuracy: 34.4%\n",
      "Validation accuracy: 60.0%\n",
      "Learning Rate 0.000096\n",
      "Minibatch loss at step 700: 1.044028\n",
      "Minibatch accuracy: 65.6%\n",
      "Validation accuracy: 40.0%\n",
      "Learning Rate 0.000096\n",
      "Minibatch loss at step 750: 3.806648\n",
      "Minibatch accuracy: 62.5%\n",
      "Validation accuracy: 40.0%\n",
      "Learning Rate 0.000096\n",
      "Minibatch loss at step 800: 6.990436\n",
      "Minibatch accuracy: 56.2%\n",
      "Validation accuracy: 60.0%\n",
      "Learning Rate 0.000096\n",
      "Minibatch loss at step 850: 0.687689\n",
      "Minibatch accuracy: 62.5%\n",
      "Validation accuracy: 40.0%\n",
      "Learning Rate 0.000096\n",
      "Minibatch loss at step 900: 6.313551\n",
      "Minibatch accuracy: 53.1%\n",
      "Validation accuracy: 60.0%\n",
      "Learning Rate 0.000096\n",
      "Minibatch loss at step 950: 4.317127\n",
      "Minibatch accuracy: 62.5%\n",
      "Validation accuracy: 60.0%\n",
      "Learning Rate 0.000092\n",
      "Minibatch loss at step 1000: 0.891693\n",
      "Minibatch accuracy: 59.4%\n",
      "Validation accuracy: 60.0%\n",
      "Learning Rate 0.000092\n",
      "Minibatch loss at step 1050: 0.825463\n",
      "Minibatch accuracy: 43.8%\n",
      "Validation accuracy: 60.0%\n",
      "Learning Rate 0.000092\n",
      "Minibatch loss at step 1100: 2.088618\n",
      "Minibatch accuracy: 46.9%\n",
      "Validation accuracy: 60.0%\n",
      "Learning Rate 0.000092\n",
      "Minibatch loss at step 1150: 4.266551\n",
      "Minibatch accuracy: 50.0%\n",
      "Validation accuracy: 40.0%\n",
      "Learning Rate 0.000092\n",
      "Minibatch loss at step 1200: 0.922707\n",
      "Minibatch accuracy: 53.1%\n",
      "Validation accuracy: 40.0%\n",
      "Learning Rate 0.000092\n",
      "Minibatch loss at step 1250: 1.489484\n",
      "Minibatch accuracy: 71.9%\n",
      "Validation accuracy: 40.0%\n",
      "Learning Rate 0.000092\n",
      "Minibatch loss at step 1300: 5.522544\n",
      "Minibatch accuracy: 59.4%\n",
      "Validation accuracy: 60.0%\n",
      "Learning Rate 0.000092\n",
      "Minibatch loss at step 1350: 0.878573\n",
      "Minibatch accuracy: 56.2%\n",
      "Validation accuracy: 40.0%\n",
      "Learning Rate 0.000092\n",
      "Minibatch loss at step 1400: 2.528673\n",
      "Minibatch accuracy: 65.6%\n",
      "Validation accuracy: 40.0%\n",
      "Learning Rate 0.000092\n",
      "Minibatch loss at step 1450: 4.459951\n",
      "Minibatch accuracy: 40.6%\n",
      "Validation accuracy: 60.0%\n",
      "Learning Rate 0.000088\n",
      "Minibatch loss at step 1500: 2.945379\n",
      "Minibatch accuracy: 71.9%\n",
      "Validation accuracy: 60.0%\n",
      "Learning Rate 0.000088\n",
      "Minibatch loss at step 1550: 1.918839\n",
      "Minibatch accuracy: 37.5%\n",
      "Validation accuracy: 60.0%\n",
      "Learning Rate 0.000088\n",
      "Minibatch loss at step 1600: 0.680839\n",
      "Minibatch accuracy: 68.8%\n",
      "Validation accuracy: 40.0%\n",
      "Learning Rate 0.000088\n",
      "Minibatch loss at step 1650: 7.758294\n",
      "Minibatch accuracy: 46.9%\n",
      "Validation accuracy: 60.0%\n",
      "Learning Rate 0.000088\n",
      "Minibatch loss at step 1700: 0.691193\n",
      "Minibatch accuracy: 53.1%\n",
      "Validation accuracy: 60.0%\n",
      "Learning Rate 0.000088\n",
      "Minibatch loss at step 1750: 1.287090\n",
      "Minibatch accuracy: 62.5%\n",
      "Validation accuracy: 40.0%\n",
      "Learning Rate 0.000088\n",
      "Minibatch loss at step 1800: 2.629445\n",
      "Minibatch accuracy: 43.8%\n",
      "Validation accuracy: 40.0%\n",
      "Learning Rate 0.000088\n",
      "Minibatch loss at step 1850: 3.649808\n",
      "Minibatch accuracy: 56.2%\n",
      "Validation accuracy: 40.0%\n",
      "Learning Rate 0.000088\n",
      "Minibatch loss at step 1900: 4.194808\n",
      "Minibatch accuracy: 56.2%\n",
      "Validation accuracy: 40.0%\n",
      "Learning Rate 0.000088\n",
      "Minibatch loss at step 1950: 2.329812\n",
      "Minibatch accuracy: 62.5%\n",
      "Validation accuracy: 60.0%\n",
      "Test accuracy: 37.6%\n",
      "Actuals  [156  94]\n",
      "Predictions  [  0 250]\n",
      "Accuracy  37.6\n",
      "Two class confusion matrix\n",
      "[[  0   0]\n",
      " [156  94]]\n",
      "Custom Test accuracy: 47.4%\n",
      "Actuals  [30 27]\n",
      "Predictions  [ 0 57]\n",
      "Accuracy  47.3684210526\n",
      "Two class confusion matrix\n",
      "[[ 0  0]\n",
      " [30 27]]\n",
      "CPU times: user 4h 59min 41s, sys: 1h 15min 9s, total: 6h 14min 51s\n",
      "Wall time: 1h 20min 27s\n"
     ]
    }
   ],
   "source": [
    "%%time\n",
    "num_steps = 2001\n",
    "\n",
    "minibatch_loss = np.nan * np.ones(num_steps)\n",
    "validation_loss = np.nan * np.ones(num_steps)\n",
    "\n",
    "with tf.Session(graph=graph) as session:\n",
    "  tf.initialize_all_variables().run()\n",
    "  print('Initialized')\n",
    "  for step in range(num_steps):\n",
    "    offset = (step * batch_size) % (train_labels.shape[0] - batch_size)\n",
    "    batch_data = train_dataset[offset:(offset + batch_size), :, :, :]\n",
    "    batch_labels = train_labels[offset:(offset + batch_size), :]\n",
    "    feed_dict = {tf_train_dataset : batch_data, tf_train_labels : batch_labels}\n",
    "    _, l, predictions = session.run(\n",
    "      [optimizer, loss, train_prediction], feed_dict=feed_dict)\n",
    "    \n",
    "    minibatch_loss[step] = l\n",
    "    validation_loss[step] = l\n",
    "    \n",
    "    if (step % 50 == 0):\n",
    "      print ('Learning Rate %f' % learning_rate.eval())\n",
    "\n",
    "      print('Minibatch loss at step %d: %f' % (step, l))\n",
    "      print('Minibatch accuracy: %.1f%%' % accuracy(predictions, batch_labels))\n",
    "    \n",
    "      valid_preds = valid_prediction.eval()\n",
    "      print('Validation accuracy: %.1f%%' % accuracy(valid_preds, valid_labels))\n",
    "\n",
    "  test_preds = test_prediction.eval()\n",
    "  print('Test accuracy: %.1f%%' % accuracy(test_preds, test_labels))\n",
    "  confusion_matrix(test_preds, test_labels)\n",
    "\n",
    "  custom_test_preds = custom_test_prediction.eval()\n",
    "  print('Custom Test accuracy: %.1f%%' % accuracy(custom_test_preds, custom_test_labels))\n",
    "  confusion_matrix(custom_test_preds, custom_test_labels)"
   ]
  },
  {
   "cell_type": "code",
   "execution_count": 42,
   "metadata": {
    "collapsed": false
   },
   "outputs": [
    {
     "name": "stdout",
     "output_type": "stream",
     "text": [
      "0.5\n"
     ]
    },
    {
     "data": {
      "image/png": "[encoded data removed]",
      "text/plain": [
       "<matplotlib.figure.Figure at 0x12b2c5790>"
      ]
     },
     "metadata": {},
     "output_type": "display_data"
    }
   ],
   "source": [
    "%matplotlib inline\n",
    "\n",
    "y = custom_test_labels[:,0]\n",
    "pred = custom_test_preds[:, 0]\n",
    "fpr, tpr, thresholds = metrics.roc_curve(y, pred, pos_label=1)\n",
    "\n",
    "plt.plot(fpr, tpr, 'b--', np.arange(0, 1, 0.1), np.arange(0, 1, 0.1), 'r:')\n",
    "print metrics.auc(fpr, tpr)"
   ]
  },
  {
   "cell_type": "code",
   "execution_count": 43,
   "metadata": {
    "collapsed": false
   },
   "outputs": [
    {
     "data": {
      "text/plain": [
       "[<matplotlib.lines.Line2D at 0x1222eaa10>]"
      ]
     },
     "execution_count": 43,
     "metadata": {},
     "output_type": "execute_result"
    },
    {
     "data": {
      "image/png": "[encoded data removed]",
      "text/plain": [
       "<matplotlib.figure.Figure at 0x129e86c50>"
      ]
     },
     "metadata": {},
     "output_type": "display_data"
    }
   ],
   "source": [
    "plt.axis((0, num_steps, 0, 6))\n",
    "plt.plot(minibatch_loss)"
   ]
  },
  {
   "cell_type": "code",
   "execution_count": 44,
   "metadata": {
    "collapsed": false
   },
   "outputs": [
    {
     "data": {
      "text/plain": [
       "[<matplotlib.lines.Line2D at 0x1e30cb810>]"
      ]
     },
     "execution_count": 44,
     "metadata": {},
     "output_type": "execute_result"
    },
    {
     "data": {
      "image/png": "[encoded data removed]",
      "text/plain": [
       "<matplotlib.figure.Figure at 0x111115f50>"
      ]
     },
     "metadata": {},
     "output_type": "display_data"
    }
   ],
   "source": [
    "plt.axis((0, num_steps, 0, 6))\n",
    "plt.plot(validation_loss)"
   ]
  },
  {
   "cell_type": "code",
   "execution_count": null,
   "metadata": {
    "collapsed": true
   },
   "outputs": [],
   "source": []
  }
 ],
 "metadata": {
  "kernelspec": {
   "display_name": "Python 2",
   "language": "python",
   "name": "python2"
  },
  "language_info": {
   "codemirror_mode": {
    "name": "ipython",
    "version": 2
   },
   "file_extension": ".py",
   "mimetype": "text/x-python",
   "name": "python",
   "nbconvert_exporter": "python",
   "pygments_lexer": "ipython2",
   "version": "2.7.11"
  }
 },
 "nbformat": 4,
 "nbformat_minor": 0
}
